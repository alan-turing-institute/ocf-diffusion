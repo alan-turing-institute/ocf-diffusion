{
 "cells": [
  {
   "cell_type": "code",
   "execution_count": 1,
   "id": "d03c4d82-667d-4a4c-b842-14bf5be8734a",
   "metadata": {
    "tags": []
   },
   "outputs": [
    {
     "name": "stdout",
     "output_type": "stream",
     "text": [
      "Using device: mps\n"
     ]
    }
   ],
   "source": [
    "import matplotlib.pyplot as plt\n",
    "import numpy as np\n",
    "import torch\n",
    "from torch.utils.data import DataLoader\n",
    "from torch import nn\n",
    "import random, os\n",
    "\n",
    "from cloudcasting.dataset import SatelliteDataset\n",
    "\n",
    "\n",
    "def seed_everything(seed: int):\n",
    "    random.seed(seed)\n",
    "    os.environ['PYTHONHASHSEED'] = str(seed)\n",
    "    np.random.seed(seed)\n",
    "    torch.manual_seed(seed)\n",
    "    torch.cuda.manual_seed(seed)\n",
    "    torch.backends.cudnn.deterministic = True\n",
    "    torch.backends.cudnn.benchmark = False\n",
    "    torch.mps.manual_seed(seed)\n",
    "    \n",
    "seed_everything(42)\n",
    "\n",
    "device = \"mps\" if torch.backends.mps.is_available() else \"cuda\" if torch.cuda.is_available() else \"cpu\"\n",
    "print(f\"Using device: {device}\")"
   ]
  },
  {
   "cell_type": "code",
   "execution_count": 2,
   "id": "dd74f65b",
   "metadata": {},
   "outputs": [
    {
     "name": "stderr",
     "output_type": "stream",
     "text": [
      "/Users/nsimpson/Code/ocf-diffusion/.venv/lib/python3.12/site-packages/tqdm/auto.py:21: TqdmWarning: IProgress not found. Please update jupyter and ipywidgets. See https://ipywidgets.readthedocs.io/en/stable/user_install.html\n",
      "  from .autonotebook import tqdm as notebook_tqdm\n"
     ]
    }
   ],
   "source": [
    "from diffusers import DDPMScheduler, UNet2DModel\n",
    "from cloudcasting.constants import NUM_CHANNELS\n",
    "\n",
    "\n",
    "class ConditionedUnet(nn.Module):\n",
    "    history_steps: int\n",
    "    def __init__(self, image_size, history_steps = 1):\n",
    "        super().__init__()\n",
    "\n",
    "        self.history_steps = history_steps\n",
    "\n",
    "        # Self.model is an unconditional UNet with extra input channels to accept the conditioning information (previous timesteps)\n",
    "        self.model = UNet2DModel(\n",
    "            sample_size=image_size,  # the target image resolution\n",
    "            in_channels=NUM_CHANNELS + history_steps * NUM_CHANNELS,  # noise input + conditioning information\n",
    "            out_channels=NUM_CHANNELS,  # the number of output channels\n",
    "            layers_per_block=2,  # how many ResNet layers to use per UNet block\n",
    "            block_out_channels=(\n",
    "                128, \n",
    "                256, \n",
    "                # 512,\n",
    "            ),\n",
    "            down_block_types=(\n",
    "                \"DownBlock2D\",  # a regular ResNet downsampling block\n",
    "                \"DownBlock2D\",  # a regular ResNet downsampling block\n",
    "                # \"DownBlock2D\",  # a regular ResNet downsampling block\n",
    "\n",
    "                # \"AttnDownBlock2D\",  # a ResNet downsampling block with spatial self-attention\n",
    "                # \"AttnDownBlock2D\",\n",
    "            ),\n",
    "            up_block_types=(\n",
    "                # \"AttnUpBlock2D\",\n",
    "                # \"AttnUpBlock2D\",  # a ResNet upsampling block with spatial self-attention\n",
    "                \"UpBlock2D\",  # a regular ResNet upsampling block\n",
    "                \"UpBlock2D\",  # a regular ResNet upsampling block\n",
    "                # \"UpBlock2D\",  # a regular ResNet upsampling block\n",
    "            ),\n",
    "            add_attention = False,  # blows up memory with attention -- maybe do latent diffusion\n",
    "        )\n",
    "\n",
    "    # Our forward method now takes the class labels as an additional argument\n",
    "    def forward(self, noisy_image, conditioning, t):\n",
    "\n",
    "        # stack noisy image and conditioning info along the time axis\n",
    "        stacked = torch.cat([noisy_image, conditioning], dim=-3) \n",
    "        print(f\"{stacked.shape=}\")\n",
    "\n",
    "        # reshape to (batch, channels*time, height, width)\n",
    "        net_input = stacked.reshape(-1, stacked.shape[-4] * stacked.shape[-3], *stacked.shape[-2:])\n",
    "\n",
    "        return self.model(net_input, t).sample\n",
    "    \n"
   ]
  },
  {
   "cell_type": "code",
   "execution_count": 3,
   "id": "91b73538-de30-4cdd-8312-c7529e7795d4",
   "metadata": {},
   "outputs": [],
   "source": [
    "from cloudcasting.constants import DATA_INTERVAL_SPACING_MINUTES\n",
    "\n",
    "TRAINING_DATA_PATH = \"/Users/nsimpson/code/climetrend/cloudcast/2020_training_nonhrv.zarr\"\n",
    "HISTORY_STEPS = 1\n",
    "\n",
    "# Instantiate the torch dataset object\n",
    "dataset = SatelliteDataset(\n",
    "    zarr_path=TRAINING_DATA_PATH,\n",
    "    start_time=None,\n",
    "    end_time=None,\n",
    "    history_mins=(HISTORY_STEPS - 1) * DATA_INTERVAL_SPACING_MINUTES,\n",
    "    forecast_mins=15,\n",
    "    sample_freq_mins=15,\n",
    "    nan_to_num=True,\n",
    ")"
   ]
  },
  {
   "cell_type": "code",
   "execution_count": 4,
   "id": "840df044-25d6-4010-ba62-1c27485ed939",
   "metadata": {},
   "outputs": [
    {
     "name": "stdout",
     "output_type": "stream",
     "text": [
      "2868\n",
      "NaN percentage: <xarray.Dataset> Size: 8B\n",
      "Dimensions:  ()\n",
      "Data variables:\n",
      "    data     float64 8B 0.04845\n"
     ]
    }
   ],
   "source": [
    "# Number of complete samples in the dataset\n",
    "# - this includes overlapping periods, not completely distinct periods\n",
    "n_samples = len(dataset)\n",
    "print(n_samples)\n",
    "\n",
    "# nan percentage\n",
    "print(f\"NaN percentage: {np.mean(np.isnan(dataset.ds)).compute()}\")"
   ]
  },
  {
   "cell_type": "code",
   "execution_count": 5,
   "id": "8fa56fb1",
   "metadata": {},
   "outputs": [],
   "source": [
    "# def seed_worker(worker_id):\n",
    "#     worker_seed = torch.initial_seed() % 2**32\n",
    "#     np.random.seed(worker_seed)\n",
    "#     random.seed(worker_seed)\n",
    "\n",
    "# g = torch.Generator()\n",
    "# g.manual_seed(0)\n",
    "\n",
    "batch_size = 2\n",
    "num_workers = 0\n",
    "\n",
    "# dataloader = DataLoader(\n",
    "#     dataset=dataset,\n",
    "#     batch_size=batch_size,\n",
    "#     num_workers=num_workers,\n",
    "#     worker_init_fn=seed_worker,\n",
    "#     generator=g,\n",
    "# )\n",
    "\n",
    "train_dataloader = DataLoader(\n",
    "    dataset=dataset,\n",
    "    batch_size=batch_size,\n",
    "    num_workers=num_workers,\n",
    ")\n"
   ]
  },
  {
   "cell_type": "code",
   "execution_count": 6,
   "id": "8e8c447f",
   "metadata": {},
   "outputs": [],
   "source": [
    "X, y = next(iter(train_dataloader))\n",
    "\n",
    "assert X.shape == y.shape"
   ]
  },
  {
   "cell_type": "code",
   "execution_count": 7,
   "id": "e414a95b",
   "metadata": {},
   "outputs": [],
   "source": [
    "# Instantiate the model\n",
    "# Calculate required crop for the input dims to be divisible by 16\n",
    "x_cropped_shape = [(size // 16) * 16 for size in X.shape[-2:]]\n",
    "model = ConditionedUnet(x_cropped_shape, history_steps=HISTORY_STEPS)"
   ]
  },
  {
   "cell_type": "code",
   "execution_count": 8,
   "id": "353a90bc",
   "metadata": {},
   "outputs": [
    {
     "name": "stderr",
     "output_type": "stream",
     "text": [
      "  0%|          | 0/1434 [00:00<?, ?it/s]"
     ]
    },
    {
     "name": "stdout",
     "output_type": "stream",
     "text": [
      "stacked.shape=torch.Size([2, 11, 2, 368, 608])\n"
     ]
    },
    {
     "name": "stderr",
     "output_type": "stream",
     "text": [
      "  0%|          | 0/1434 [00:12<?, ?it/s]"
     ]
    },
    {
     "name": "stdout",
     "output_type": "stream",
     "text": [
      "Loss: 1.155314\n",
      "Finished epoch 0. Average of the last 100 loss values: 0.011553\n"
     ]
    },
    {
     "name": "stderr",
     "output_type": "stream",
     "text": [
      "\n"
     ]
    },
    {
     "data": {
      "text/plain": [
       "[<matplotlib.lines.Line2D at 0x153061550>]"
      ]
     },
     "execution_count": 8,
     "metadata": {},
     "output_type": "execute_result"
    },
    {
     "data": {
      "image/png": "[encoded data removed]",
      "text/plain": [
       "<Figure size 640x480 with 1 Axes>"
      ]
     },
     "metadata": {},
     "output_type": "display_data"
    }
   ],
   "source": [
    "from tqdm import tqdm\n",
    "# Create a scheduler\n",
    "noise_scheduler = DDPMScheduler(num_train_timesteps=1000, beta_schedule=\"squaredcos_cap_v2\")\n",
    "\n",
    "model = model.to(device) # model on device\n",
    "\n",
    "# How many runs through the data should we do?\n",
    "n_epochs = 1\n",
    "\n",
    "# Our loss function\n",
    "loss_fn = nn.MSELoss()\n",
    "\n",
    "# The optimizer\n",
    "opt = torch.optim.Adam(model.parameters(), lr=1e-3)\n",
    "\n",
    "# Keeping a record of the losses for later viewing\n",
    "losses = []\n",
    "\n",
    "\n",
    "def crop(x):\n",
    "    # Calculate required crop for the input dims to be divisible by 16\n",
    "    x_cropped_shape = [(size // 16) * 16 for size in x.shape[-2:]]\n",
    "    return x[..., :x_cropped_shape[0], :x_cropped_shape[1]]\n",
    "\n",
    "# The training loop\n",
    "for epoch in range(n_epochs):\n",
    "    for i, (x, y) in enumerate(tqdm(train_dataloader)):\n",
    "\n",
    "        # Get some data and prepare the corrupted version\n",
    "        x = crop(x.to(device) * 2 - 1)  # Data on the GPU (mapped to (-1, 1)) (????)\n",
    "        \n",
    "        y = crop(y.to(device) * 2 - 1)\n",
    "        # Calculate required crop for the input dims to be divisible by 16\n",
    "        y_cropped_shape = [(size // 16) * 16 for size in y.shape[-2:]]\n",
    "        y_cropped = y[..., :y_cropped_shape[0], :y_cropped_shape[1]]\n",
    "        noise = torch.randn_like(y)  # base noise on the target image\n",
    "        timesteps = torch.randint(0, 999, (x.shape[0],)).long().to(device)\n",
    "        noisy_y = noise_scheduler.add_noise(y, noise, timesteps)  # Note that we pass in the target y\n",
    "\n",
    "        # Predict the noise based on previous images and the noisy forecast target\n",
    "        pred = model(noisy_y, x, timesteps).reshape(y.shape)\n",
    "\n",
    "        # Calculate the loss\n",
    "        loss = loss_fn(pred, noise)  # How close is the output to the noise\n",
    "\n",
    "        # Backprop and update the params:\n",
    "        opt.zero_grad()\n",
    "        loss.backward()\n",
    "        opt.step()\n",
    "\n",
    "        # Store the loss for later\n",
    "        losses.append(loss.item())\n",
    "        print(f\"Loss: {loss.item():05f}\")\n",
    "        \n",
    "        if i % 3 == 0:\n",
    "            break\n",
    "\n",
    "    # Print out the average of the last 100 loss values to get an idea of progress:\n",
    "    avg_loss = sum(losses[-100:]) / 100\n",
    "    print(f\"Finished epoch {epoch}. Average of the last 100 loss values: {avg_loss:05f}\")\n",
    "\n",
    "# View the loss curve\n",
    "plt.plot(losses)"
   ]
  },
  {
   "cell_type": "code",
   "execution_count": 9,
   "id": "50d95ed8",
   "metadata": {},
   "outputs": [
    {
     "data": {
      "text/plain": [
       "[1.1553138494491577]"
      ]
     },
     "execution_count": 9,
     "metadata": {},
     "output_type": "execute_result"
    }
   ],
   "source": [
    "losses"
   ]
  },
  {
   "cell_type": "code",
   "execution_count": null,
   "id": "81e6217a",
   "metadata": {},
   "outputs": [],
   "source": []
  }
 ],
 "metadata": {
  "environment": {
   "kernel": "pvnet0",
   "name": "pytorch-gpu.1-13.m103",
   "type": "gcloud",
   "uri": "gcr.io/deeplearning-platform-release/pytorch-gpu.1-13:m103"
  },
  "kernelspec": {
   "display_name": ".venv",
   "language": "python",
   "name": "python3"
  },
  "language_info": {
   "codemirror_mode": {
    "name": "ipython",
    "version": 3
   },
   "file_extension": ".py",
   "mimetype": "text/x-python",
   "name": "python",
   "nbconvert_exporter": "python",
   "pygments_lexer": "ipython3",
   "version": "3.12.1"
  }
 },
 "nbformat": 4,
 "nbformat_minor": 5
}
